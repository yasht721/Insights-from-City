{
 "cells": [
  {
   "cell_type": "code",
   "execution_count": null,
   "metadata": {},
   "outputs": [],
   "source": [
    "import pandas as pd\n",
    "import numpy as np\n",
    "import matplotlib.pyplot as plt "
   ]
  },
  {
   "cell_type": "markdown",
   "metadata": {},
   "source": [
    "Reading the Data"
   ]
  },
  {
   "cell_type": "code",
   "execution_count": null,
   "metadata": {},
   "outputs": [],
   "source": [
    "data = \"C:/Users/yasht/OneDrive/Desktop/Stratascratch/Insights from City Supply and Demand Data/datasets/Insights from City Supply and Demand Data.csv\"\n",
    "df = pd.read_csv(data)\n",
    "df.head()"
   ]
  },
  {
   "cell_type": "markdown",
   "metadata": {},
   "source": [
    "Question 1\n",
    "\n",
    "\n",
    "Which date had the most completed trips during the two week period?\n",
    "\n"
   ]
  },
  {
   "cell_type": "code",
   "execution_count": null,
   "metadata": {},
   "outputs": [],
   "source": [
    "df.fillna(method='ffill')"
   ]
  },
  {
   "cell_type": "code",
   "execution_count": null,
   "metadata": {},
   "outputs": [],
   "source": [
    "df_agg_date = df.groupby('Date').sum().reset_index()\n",
    "df_agg_date"
   ]
  },
  {
   "cell_type": "code",
   "execution_count": null,
   "metadata": {},
   "outputs": [],
   "source": [
    "df_agg_date.nlargest(1,'Completed Trips ')['Date']"
   ]
  },
  {
   "cell_type": "markdown",
   "metadata": {},
   "source": [
    "Question 2\n",
    "\n",
    "\n",
    "What was the highest number of completed trips within a 24 hour period?\n"
   ]
  },
  {
   "cell_type": "code",
   "execution_count": null,
   "metadata": {},
   "outputs": [],
   "source": [
    "df_1 =df.fillna(method='ffill')"
   ]
  },
  {
   "cell_type": "code",
   "execution_count": null,
   "metadata": {},
   "outputs": [],
   "source": [
    "def create_timestamp(date, time):\n",
    "    return pd.to_datetime(f\"{date} {time}:00\")\n",
    "df_1['Timestamp'] = df_1.apply(lambda row: create_timestamp(row['Date'], row['Time (Local)']), axis=1)"
   ]
  },
  {
   "cell_type": "code",
   "execution_count": null,
   "metadata": {},
   "outputs": [],
   "source": [
    "indexer = pd.api.indexers.FixedForwardWindowIndexer(window_size=24)\n",
    "df_agg_twentyfour_hrs = df_1.set_index(\"Timestamp\").rolling(window=indexer, min_periods=5).sum()\n",
    "df_agg_twentyfour_hr = df_1.set_index(\"Timestamp\").rolling(window=indexer, min_periods=1).sum()\n"
   ]
  },
  {
   "cell_type": "code",
   "execution_count": null,
   "metadata": {},
   "outputs": [],
   "source": [
    "df_agg_twentyfour_hr[:10]\n",
    "time_format = \"%Y/%m/%d %H:%M\"\n",
    "df_agg_twentyfour_hrs['Time Interval']  = df_agg_twentyfour_hrs.index.strftime(time_format) +  \" - \" + (df_agg_twentyfour_hrs.index + pd.Timedelta('24 hours')).strftime(time_format)"
   ]
  },
  {
   "cell_type": "code",
   "execution_count": null,
   "metadata": {},
   "outputs": [],
   "source": [
    "completed_trips = df_agg_twentyfour_hrs.nlargest(1, 'Completed Trips ')['Completed Trips '].values[0]\n",
    "completed_trips\n"
   ]
  },
  {
   "cell_type": "code",
   "execution_count": null,
   "metadata": {},
   "outputs": [],
   "source": [
    "time_interval = df_agg_twentyfour_hrs.nlargest(1, 'Completed Trips ')['Time Interval'].values[0]\n",
    "time_interval"
   ]
  },
  {
   "cell_type": "code",
   "execution_count": null,
   "metadata": {},
   "outputs": [],
   "source": [
    "print(\"Number of completed trips:\", completed_trips)\n",
    "print(\"Time Interval:\", time_interval)"
   ]
  },
  {
   "cell_type": "markdown",
   "metadata": {},
   "source": [
    "Question 3 \n",
    "\n",
    "Which hour of the day had the most requests during the two week period?\n",
    "\n"
   ]
  },
  {
   "cell_type": "code",
   "execution_count": 219,
   "metadata": {},
   "outputs": [
    {
     "data": {
      "text/plain": [
       "23    23\n",
       "Name: Time (Local), dtype: int64"
      ]
     },
     "execution_count": 219,
     "metadata": {},
     "output_type": "execute_result"
    }
   ],
   "source": [
    "df_agg_time = df.groupby('Time (Local)').sum().reset_index()\n",
    "df_agg_time.nlargest(1, 'Requests ')\n",
    "\n",
    "df_agg_time.nlargest(1, 'Requests ')['Time (Local)']\n"
   ]
  },
  {
   "cell_type": "markdown",
   "metadata": {},
   "source": [
    "Question 4\n",
    "\n",
    "\n",
    "What percentages of all zeroes during the two week period occurred on weekend (Friday at 5 pm to Sunday at 3 am)?\n",
    "\n"
   ]
  },
  {
   "cell_type": "code",
   "execution_count": null,
   "metadata": {},
   "outputs": [],
   "source": [
    "df_4 = df.fillna(method='ffill')"
   ]
  },
  {
   "cell_type": "code",
   "execution_count": null,
   "metadata": {},
   "outputs": [],
   "source": [
    "total_zeros = df_4['Zeroes '].sum()\n",
    "total_zeros"
   ]
  },
  {
   "cell_type": "code",
   "execution_count": null,
   "metadata": {},
   "outputs": [],
   "source": [
    "df_4['Day'] = pd.to_datetime(df_4['Date']).dt.weekday"
   ]
  },
  {
   "cell_type": "code",
   "execution_count": null,
   "metadata": {},
   "outputs": [],
   "source": [
    "\n",
    "weekend_zeros = df_4[((df_4['Day'] == 4) & (df_4['Time (Local)'] >= 17)) | (df_4['Day'] == 5) | (((df_4['Day'] == 6) & (df_4['Time (Local)'] < 3)))]['Zeroes '].sum()\n",
    "weekend_zeros"
   ]
  },
  {
   "cell_type": "code",
   "execution_count": null,
   "metadata": {},
   "outputs": [],
   "source": [
    "weekend_zeros_percent = weekend_zeros / total_zeros * 100\n",
    "print(weekend_zeros_percent,'%')"
   ]
  },
  {
   "cell_type": "markdown",
   "metadata": {},
   "source": [
    "Question 5\n",
    "\n",
    "\n",
    "What is the weighted average ratio of completed trips per driver during the two week period?"
   ]
  },
  {
   "cell_type": "code",
   "execution_count": null,
   "metadata": {},
   "outputs": [],
   "source": [
    "df_5 = df.fillna(method='ffill')"
   ]
  },
  {
   "cell_type": "code",
   "execution_count": null,
   "metadata": {},
   "outputs": [],
   "source": [
    "df_5['completed_trip_ratio_per_driver'] =  df_5['Completed Trips '] / df_5['Unique Drivers']"
   ]
  },
  {
   "cell_type": "code",
   "execution_count": null,
   "metadata": {},
   "outputs": [],
   "source": [
    "data_without_zero_unique_driver = df_5[df_5['Unique Drivers'] > 0]"
   ]
  },
  {
   "cell_type": "code",
   "execution_count": null,
   "metadata": {},
   "outputs": [],
   "source": [
    "weighted_average_ratio = np.average(data_without_zero_unique_driver['completed_trip_ratio_per_driver'], weights= data_without_zero_unique_driver['Completed Trips '])\n",
    "weighted_average_ratio"
   ]
  },
  {
   "cell_type": "code",
   "execution_count": null,
   "metadata": {},
   "outputs": [],
   "source": [
    "np.average(data_without_zero_unique_driver['completed_trip_ratio_per_driver'])\n"
   ]
  },
  {
   "cell_type": "markdown",
   "metadata": {},
   "source": [
    "Question 6 \n",
    "\n",
    "\n",
    "\n",
    "In drafting a driver schedule in terms of 8 hours shifts, when are the busiest 8 consecutive hours over the two week period in terms of unique requests? A new shift starts in every 8 hours. Assume that a driver will work same shift each day.\n"
   ]
  },
  {
   "cell_type": "code",
   "execution_count": null,
   "metadata": {},
   "outputs": [],
   "source": [
    "df_6 = df.fillna(method='ffill')"
   ]
  },
  {
   "cell_type": "code",
   "execution_count": null,
   "metadata": {},
   "outputs": [],
   "source": [
    "df_6['Timestamp'] = df_6.apply(lambda row: create_timestamp(row['Date'], row['Time (Local)']), axis=1)\n"
   ]
  },
  {
   "cell_type": "code",
   "execution_count": null,
   "metadata": {},
   "outputs": [],
   "source": [
    "df_6 = df_6.set_index(\"Timestamp\").resample('8H').sum()"
   ]
  },
  {
   "cell_type": "code",
   "execution_count": null,
   "metadata": {},
   "outputs": [],
   "source": [
    "df_6['Shift'] = df_6.index.strftime(time_format) + ' - ' + (df_6.index + pd.Timedelta('8 Hours')).strftime(time_format)\n",
    "\n"
   ]
  },
  {
   "cell_type": "code",
   "execution_count": 220,
   "metadata": {},
   "outputs": [
    {
     "data": {
      "text/plain": [
       "Timestamp\n",
       "2012-09-21 16:00:00    2012/09/21 16:00 - 2012/09/22 00:00\n",
       "Freq: 8H, Name: Shift, dtype: object"
      ]
     },
     "execution_count": 220,
     "metadata": {},
     "output_type": "execute_result"
    }
   ],
   "source": [
    "df_6.nlargest(1, 'Requests ')['Shift']\n",
    "\n"
   ]
  },
  {
   "cell_type": "markdown",
   "metadata": {},
   "source": [
    "Question 7\n",
    "\n",
    "\n",
    "True or False: Driver supply always increases when demand increases during the two week period"
   ]
  },
  {
   "cell_type": "code",
   "execution_count": null,
   "metadata": {},
   "outputs": [],
   "source": [
    "df_7 = df.fillna(method='ffill')"
   ]
  },
  {
   "cell_type": "code",
   "execution_count": null,
   "metadata": {},
   "outputs": [],
   "source": [
    "df_7['Timestamp'] = df_7.apply(lambda row: create_timestamp(row['Date'], row['Time (Local)']), axis=1)"
   ]
  },
  {
   "cell_type": "code",
   "execution_count": null,
   "metadata": {},
   "outputs": [],
   "source": [
    "diff_df = pd.DataFrame(df_7['Timestamp'])"
   ]
  },
  {
   "cell_type": "code",
   "execution_count": null,
   "metadata": {},
   "outputs": [],
   "source": [
    "diff_df['request diff'] = df_7['Requests '].shift(-1) - df_7['Requests ']"
   ]
  },
  {
   "cell_type": "code",
   "execution_count": null,
   "metadata": {},
   "outputs": [],
   "source": [
    "diff_df['supply diff'] = df_7['Unique Drivers'].shift(-1) - df_7['Unique Drivers']"
   ]
  },
  {
   "cell_type": "code",
   "execution_count": null,
   "metadata": {},
   "outputs": [],
   "source": [
    "(diff_df[diff_df['request diff'] > 0]['supply diff'] > 0).all().item()"
   ]
  },
  {
   "cell_type": "code",
   "execution_count": null,
   "metadata": {},
   "outputs": [],
   "source": [
    "import seaborn as sns\n",
    "import matplotlib.pyplot as plt\n",
    "\n",
    "plt.figure(figsize=(12,8))\n",
    "sns.lineplot(data=df_7[['Requests ', 'Unique Drivers', 'Timestamp']])\n",
    "plt.show()"
   ]
  },
  {
   "cell_type": "code",
   "execution_count": null,
   "metadata": {},
   "outputs": [],
   "source": [
    "df_8"
   ]
  },
  {
   "cell_type": "markdown",
   "metadata": {},
   "source": [
    "Question 8\n",
    "\n",
    "\n",
    "In which 72 hour period is the ratio of Zeroes to Eyeballs the highest?\n",
    "\n"
   ]
  },
  {
   "cell_type": "code",
   "execution_count": null,
   "metadata": {},
   "outputs": [],
   "source": [
    "df_8 = df.fillna(method= 'ffill')"
   ]
  },
  {
   "cell_type": "code",
   "execution_count": null,
   "metadata": {},
   "outputs": [],
   "source": [
    "df_8['Timestamp'] = df_8.apply(lambda row: create_timestamp(row['Date'], row['Time (Local)']), axis = 1)\n"
   ]
  },
  {
   "cell_type": "code",
   "execution_count": null,
   "metadata": {},
   "outputs": [],
   "source": [
    "df_8"
   ]
  },
  {
   "cell_type": "code",
   "execution_count": null,
   "metadata": {},
   "outputs": [],
   "source": [
    "indexer = pd.api.indexers.FixedForwardWindowIndexer(window_size=72)\n",
    "\n",
    "df_agg_three_day = df_8.set_index('Timestamp').rolling(window=indexer, min_periods = 1).sum().reset_index()"
   ]
  },
  {
   "cell_type": "code",
   "execution_count": null,
   "metadata": {},
   "outputs": [],
   "source": [
    "df_agg_three_day['zero_to_eyeballs_ratio'] = df_agg_three_day['Zeroes '] / df_agg_three_day['Eyeballs ']"
   ]
  },
  {
   "cell_type": "code",
   "execution_count": null,
   "metadata": {},
   "outputs": [],
   "source": [
    "df_agg_three_day = df_agg_three_day[df_agg_three_day['Timestamp'] <= (df_agg_three_day['Timestamp'].max() - pd.Timedelta(days=3))]\n"
   ]
  },
  {
   "cell_type": "code",
   "execution_count": null,
   "metadata": {},
   "outputs": [],
   "source": [
    "df_agg_three_day[:15]"
   ]
  },
  {
   "cell_type": "code",
   "execution_count": null,
   "metadata": {},
   "outputs": [],
   "source": [
    "df_agg_three_day['Time Interval'] = df_agg_three_day['Timestamp'].dt.strftime(time_format) + ' - ' + (df_agg_three_day['Timestamp'] + pd.Timedelta('3 days')).dt.strftime(time_format)"
   ]
  },
  {
   "cell_type": "code",
   "execution_count": null,
   "metadata": {},
   "outputs": [],
   "source": [
    "df_agg_three_day.nlargest(1, 'zero_to_eyeballs_ratio')['Time Interval']"
   ]
  },
  {
   "cell_type": "code",
   "execution_count": null,
   "metadata": {},
   "outputs": [],
   "source": [
    "df_agg_three_day.nlargest(1, 'zero_to_eyeballs_ratio')['zero_to_eyeballs_ratio']\n"
   ]
  },
  {
   "cell_type": "code",
   "execution_count": null,
   "metadata": {},
   "outputs": [],
   "source": [
    "df_agg_three_day['zero_to_eyeballs_ratio'].max()"
   ]
  },
  {
   "cell_type": "markdown",
   "metadata": {},
   "source": [
    "Question 9\n",
    "\n",
    "\n",
    "If you could add 5 drivers to any single hour of every day during the two week period, which hour should you add them to? Hint: Consider both rider eyeballs and driver supply when choosing\n"
   ]
  },
  {
   "cell_type": "code",
   "execution_count": null,
   "metadata": {},
   "outputs": [],
   "source": [
    "df_9 = df.fillna(method='ffill')"
   ]
  },
  {
   "cell_type": "code",
   "execution_count": null,
   "metadata": {},
   "outputs": [],
   "source": [
    "df_9 = df_9.groupby('Time (Local)').sum().reset_index()"
   ]
  },
  {
   "cell_type": "code",
   "execution_count": null,
   "metadata": {},
   "outputs": [],
   "source": [
    "df_9['eye_to_driver_ratio'] = df_9['Eyeballs '] / df_9['Unique Drivers']\n",
    "df_9"
   ]
  },
  {
   "cell_type": "code",
   "execution_count": null,
   "metadata": {},
   "outputs": [],
   "source": [
    "df_9.nlargest(1, 'eye_to_driver_ratio')['Time (Local)']"
   ]
  },
  {
   "cell_type": "markdown",
   "metadata": {},
   "source": [
    "Question 10\n",
    "\n",
    "\n",
    "True or False: There is exactly two weeks of data in this analysis\n"
   ]
  },
  {
   "cell_type": "code",
   "execution_count": null,
   "metadata": {},
   "outputs": [],
   "source": [
    "df_8['Timestamp'].max() - df_8['Timestamp'].min()\n",
    "pd.Timedelta('14 Days') == df_8['Timestamp'][df_8.shape[0]-1] - df_8['Timestamp'][0]\n",
    "pd.Timedelta('14 Days') > df_8['Timestamp'][df_8.shape[0]-1] - df_8['Timestamp'][0]"
   ]
  },
  {
   "cell_type": "markdown",
   "metadata": {},
   "source": [
    "Question 11\n",
    "\n",
    "\n",
    "Looking at the data from all two weeks, which time might make the most sense to consider a true \"end day\" instead of midnight? (i.e when are supply and demand at both their natural minimums) Tip: Visualize the data to confirm your answer if needed.\n"
   ]
  },
  {
   "cell_type": "code",
   "execution_count": null,
   "metadata": {},
   "outputs": [],
   "source": [
    "df_8 = df.fillna(method='ffill')\n",
    "df_0 = df_8.groupby(by = 'Time (Local)').sum()\n",
    "min_point = df_0['Requests '].min()\n",
    "min_point_value = df_0['Unique Drivers'].min()"
   ]
  },
  {
   "cell_type": "code",
   "execution_count": null,
   "metadata": {},
   "outputs": [],
   "source": [
    "plt.figure(figsize=(12,8))\n",
    "\n",
    "fig = sns.lineplot(data=df_0[['Requests ', 'Unique Drivers']], markers=True, dashes=False)\n",
    "fig.set_xticks(df_0.index)\n",
    "\n",
    "plt.annotate('minimum supply/demand', xy=(min_point, min_point_value), color='r', fontsize=16)\n"
   ]
  }
 ],
 "metadata": {
  "kernelspec": {
   "display_name": "base",
   "language": "python",
   "name": "python3"
  },
  "language_info": {
   "codemirror_mode": {
    "name": "ipython",
    "version": 3
   },
   "file_extension": ".py",
   "mimetype": "text/x-python",
   "name": "python",
   "nbconvert_exporter": "python",
   "pygments_lexer": "ipython3",
   "version": "3.9.7"
  },
  "orig_nbformat": 4
 },
 "nbformat": 4,
 "nbformat_minor": 2
}
